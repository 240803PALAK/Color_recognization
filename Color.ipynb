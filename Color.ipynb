{
 "cells": [
  {
   "cell_type": "code",
   "execution_count": null,
   "id": "91f73408-a632-42f8-b538-a717a5ab7687",
   "metadata": {},
   "outputs": [
    {
     "name": "stdout",
     "output_type": "stream",
     "text": [
      "[ 61  90 131]\n",
      "[105  28 255]\n",
      "[ 35  34 170]\n",
      "[44 91 23]\n",
      "[138 105   0]\n",
      "[165 180 181]\n",
      "[ 15   9 125]\n",
      "[ 0 12 20]\n",
      "[151 164 168]\n",
      "[109 134 141]\n",
      "[ 52  70 107]\n"
     ]
    }
   ],
   "source": [
    "import cv2\n",
    "import pandas as pd\n",
    "cap=cv2.VideoCapture(0)\n",
    "cap.set(cv2.CAP_PROP_FRAME_WIDTH,1288)\n",
    "cap.set(cv2.CAP_PROP_FRAME_WIDTH,728)\n",
    "index = [\"color\", \"color_name\", \"hex\", \"R\", \"G\", \"B\"]\n",
    "csv = pd.read_csv('colors.csv', names=index, header=None)\n",
    "def get_color_name(R, G, B):\n",
    "    minimum = 10000\n",
    "    for i in range(len(csv)):\n",
    "        d = abs(R - int(csv.loc[i, \"R\"])) + abs(G - int(csv.loc[i, \"G\"])) + abs(B - int(csv.loc[i, \"B\"]))\n",
    "        if d <= minimum:\n",
    "            minimum = d\n",
    "            cname = csv.loc[i, \"color_name\"]\n",
    "    return cname\n",
    "while True:\n",
    "    _, frame=cap.read()\n",
    "    hsv_frame = cv2.cvtColor(frame,cv2.COLOR_BGR2HSV)\n",
    "    height, width, _ = frame.shape\n",
    "\n",
    "    cx=int(width/2)\n",
    "    cy=int(height/2)\n",
    "\n",
    "    # Pick pixel value\n",
    "    pixel_center=frame[cy,cx]\n",
    "    hue_value=pixel_center[0]\n",
    "    \n",
    "    color=get_color_name(pixel_center[2],pixel_center[1],pixel_center[0])\n",
    "    \n",
    "    pixel_center_bgr=frame[cy,cx]\n",
    "    b,g,r=int(pixel_center[0]),int(pixel_center_bgr[1]),int(pixel_center_bgr[2])\n",
    "    cv2.putText(frame,color,(10,70),0,1.5,(b,g,r),2)\n",
    "    cv2.circle(frame,(cx,cy),5,(25,25,25),3)\n",
    "\n",
    "    cv2.imshow(\"Frame\",frame)\n",
    "    key=cv2.waitKey()\n",
    "    if key==27:\n",
    "        break\n",
    "cap.release()\n",
    "cv2.destroyAllWindows()"
   ]
  },
  {
   "cell_type": "code",
   "execution_count": null,
   "id": "67288b5f-5977-4f33-ac2d-daaa3910aec7",
   "metadata": {},
   "outputs": [],
   "source": []
  }
 ],
 "metadata": {
  "kernelspec": {
   "display_name": "Python 3 (ipykernel)",
   "language": "python",
   "name": "python3"
  },
  "language_info": {
   "codemirror_mode": {
    "name": "ipython",
    "version": 3
   },
   "file_extension": ".py",
   "mimetype": "text/x-python",
   "name": "python",
   "nbconvert_exporter": "python",
   "pygments_lexer": "ipython3",
   "version": "3.12.0"
  }
 },
 "nbformat": 4,
 "nbformat_minor": 5
}
